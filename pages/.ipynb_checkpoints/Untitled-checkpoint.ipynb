{
 "cells": [
  {
   "cell_type": "code",
   "execution_count": 3,
   "id": "2d69b26e-3729-461a-b1d9-d61033a7c692",
   "metadata": {},
   "outputs": [
    {
     "name": "stdout",
     "output_type": "stream",
     "text": [
      "Data has been written to ../data/hs_data.csv\n"
     ]
    }
   ],
   "source": [
    "import csv\n",
    "\n",
    "# Define the data to be populated\n",
    "data = [\n",
    "    {\"Date\": \"2024-03-01\", \"DIP\": 104.10, \"HS Nozzle 1\": 2345324.50, \"HS Nozzle 2\": 1570135.20,\n",
    "     \"HS Nozzle 3\": 469058.60, \"HS_Total Nozzle sales\": 0.00, \"HS Stock Volume\": 10662.10,\n",
    "     \"HS Physical Volume\": 10662.10, \"HS Opening Stock\": 13926.1, \"HS Receipt\": 0.00,\n",
    "     \"HS Actual Nozzle Sales\": -10.00, \"HS Closing Stock\": -10672.10, \"HS Loss / Gain\": 21334.20}\n",
    "]\n",
    "\n",
    "# Define the CSV file path\n",
    "csv_file_path = \"../data/hs_data.csv\"\n",
    "\n",
    "# Define the column names\n",
    "columns = [\"Date\", \"DIP\", \"HS Nozzle 1\", \"HS Nozzle 2\", \"HS Nozzle 3\",\n",
    "           \"HS_Total Nozzle sales\", \"HS Stock Volume\", \"HS Physical Volume\",\n",
    "           \"HS Opening Stock\", \"HS Receipt\", \"HS Actual Nozzle Sales\",\n",
    "           \"HS Closing Stock\", \"HS Loss / Gain\"]\n",
    "\n",
    "# Writing data to the CSV file\n",
    "with open(csv_file_path, mode='w', newline='') as file:\n",
    "    writer = csv.DictWriter(file, fieldnames=columns)\n",
    "    \n",
    "    # Write the header\n",
    "    writer.writeheader()\n",
    "    \n",
    "    # Write the data row\n",
    "    for row in data:\n",
    "        writer.writerow(row)\n",
    "\n",
    "print(\"Data has been written to\", csv_file_path)\n"
   ]
  },
  {
   "cell_type": "code",
   "execution_count": 3,
   "id": "53cd4ae0-5cd0-450c-a2bc-27ea154a729f",
   "metadata": {},
   "outputs": [
    {
     "name": "stdout",
     "output_type": "stream",
     "text": [
      "[{\"DIP\":0,\"VOLUME\":\"0.00\",\"DIFF\":\"0.0\"},{\"DIP\":1,\"VOLUME\":\"12.00\",\"DIFF\":\"1.2\"},{\"DIP\":2,\"VOLUME\":\"34.00\",\"DIFF\":\"2.2\"},{\"DIP\":3,\"VOLUME\":\"62.00\",\"DIFF\":\"2.8\"},{\"DIP\":4,\"VOLUME\":\"95.00\",\"DIFF\":\"3.4\"},{\"DIP\":5,\"VOLUME\":\"133.00\",\"DIFF\":\"3.8\"},{\"DIP\":6,\"VOLUME\":\"175.00\",\"DIFF\":\"4.2\"},{\"DIP\":7,\"VOLUME\":\"220.00\",\"DIFF\":\"4.5\"},{\"DIP\":8,\"VOLUME\":\"269.00\",\"DIFF\":\"4.8\"},{\"DIP\":9,\"VOLUME\":\"30.00\",\"DIFF\":\"5.2\"},{\"DIP\":10,\"VOLUME\":\"374.00\",\"DIFF\":\"5.4\"},{\"DIP\":11,\"VOLUME\":\"431.00\",\"DIFF\":\"5.7\"},{\"DIP\":12,\"VOLUME\":\"491.00\",\"DIFF\":\"5.9\"},{\"DIP\":13,\"VOLUME\":\"553.00\",\"DIFF\":\"6.2\"},{\"DIP\":14,\"VOLUME\":\"617.00\",\"DIFF\":\"6.4\"},{\"DIP\":15,\"VOLUME\":\"683.00\",\"DIFF\":\"6.6\"},{\"DIP\":16,\"VOLUME\":\"751.00\",\"DIFF\":\"6.8\"},{\"DIP\":17,\"VOLUME\":\"822.00\",\"DIFF\":\"7.0\"},{\"DIP\":18,\"VOLUME\":\"894.00\",\"DIFF\":\"7.2\"},{\"DIP\":19,\"VOLUME\":\"968.00\",\"DIFF\":\"7.4\"},{\"DIP\":20,\"VOLUME\":\"1044.00\",\"DIFF\":\"7.6\"},{\"DIP\":21,\"VOLUME\":\"1121.00\",\"DIFF\":\"7.7\"},{\"DIP\":22,\"VOLUME\":\"1201.00\",\"DIFF\":\"7.9\"},{\"DIP\":23,\"VOLUME\":\"1281.00\",\"DIFF\":\"8.1\"},{\"DIP\":24,\"VOLUME\":\"1364.00\",\"DIFF\":\"8.2\"},{\"DIP\":25,\"VOLUME\":\"1448.00\",\"DIFF\":\"8.4\"},{\"DIP\":26,\"VOLUME\":\"1533.00\",\"DIFF\":\"8.5\"},{\"DIP\":27,\"VOLUME\":\"1620.00\",\"DIFF\":\"8.7\"},{\"DIP\":28,\"VOLUME\":\"1708.00\",\"DIFF\":\"8.8\"},{\"DIP\":29,\"VOLUME\":\"1798.00\",\"DIFF\":\"9.0\"},{\"DIP\":30,\"VOLUME\":\"1889.00\",\"DIFF\":\"9.1\"},{\"DIP\":31,\"VOLUME\":\"1989.40\",\"DIFF\":\"9.2\"},{\"DIP\":32,\"VOLUME\":\"2074.00\",\"DIFF\":\"9.3\"},{\"DIP\":33,\"VOLUME\":\"2169.00\",\"DIFF\":\"9.5\"},{\"DIP\":34,\"VOLUME\":\"2264.00\",\"DIFF\":\"9.6\"},{\"DIP\":35,\"VOLUME\":\"2361.00\",\"DIFF\":\"9.7\"},{\"DIP\":36,\"VOLUME\":\"2459.00\",\"DIFF\":\"9.8\"},{\"DIP\":37,\"VOLUME\":\"2588.00\",\"DIFF\":\"9.9\"},{\"DIP\":38,\"VOLUME\":\"2658.00\",\"DIFF\":\"10.0\"},{\"DIP\":39,\"VOLUME\":\"2759.00\",\"DIFF\":\"10.1\"},{\"DIP\":40,\"VOLUME\":\"2862.00\",\"DIFF\":\"10.2\"},{\"DIP\":41,\"VOLUME\":\"2965.00\",\"DIFF\":\"10.3\"},{\"DIP\":41,\"VOLUME\":\"2965.00\",\"DIFF\":\"10.3\"},{\"DIP\":42,\"VOLUME\":\"3069.00\",\"DIFF\":\"10.4\"},{\"DIP\":43,\"VOLUME\":\"3174.00\",\"DIFF\":\"10.6\"},{\"DIP\":44,\"VOLUME\":\"3280.00\",\"DIFF\":\"10.6\"},{\"DIP\":45,\"VOLUME\":\"3387.00\",\"DIFF\":\"10.7\"},{\"DIP\":46,\"VOLUME\":\"3494.00\",\"DIFF\":\"10.8\"},{\"DIP\":47,\"VOLUME\":\"3603.00\",\"DIFF\":\"10.9\"},{\"DIP\":48,\"VOLUME\":\"3712.00\",\"DIFF\":\"10.9\"},{\"DIP\":49,\"VOLUME\":\"3823.00\",\"DIFF\":\"11.0\"},{\"DIP\":50,\"VOLUME\":\"3934.00\",\"DIFF\":\"11.1\"},{\"DIP\":51,\"VOLUME\":\"4045.00\",\"DIFF\":\"11.2\"},{\"DIP\":52,\"VOLUME\":\"4158.00\",\"DIFF\":\"11.2\"},{\"DIP\":53,\"VOLUME\":\"4271.00\",\"DIFF\":\"11.3\"},{\"DIP\":54,\"VOLUME\":\"4385.00\",\"DIFF\":\"11.4\"},{\"DIP\":55,\"VOLUME\":\"4500.00\",\"DIFF\":\"11.5\"},{\"DIP\":56,\"VOLUME\":\"4615.00\",\"DIFF\":\"11.5\"},{\"DIP\":57,\"VOLUME\":\"4731.00\",\"DIFF\":\"11.6\"},{\"DIP\":58,\"VOLUME\":\"4847.00\",\"DIFF\":\"11.7\"},{\"DIP\":59,\"VOLUME\":\"4965.00\",\"DIFF\":\"11.7\"},{\"DIP\":60,\"VOLUME\":\"5082.00\",\"DIFF\":\"11.8\"},{\"DIP\":61,\"VOLUME\":\"5201.00\",\"DIFF\":\"11.8\"},{\"DIP\":62,\"VOLUME\":\"5320.00\",\"DIFF\":\"11.9\"},{\"DIP\":63,\"VOLUME\":\"5439.00\",\"DIFF\":\"12.0\"},{\"DIP\":64,\"VOLUME\":\"5559.00\",\"DIFF\":\"12.0\"},{\"DIP\":65,\"VOLUME\":\"5680.00\",\"DIFF\":\"12.1\"},{\"DIP\":66,\"VOLUME\":\"5801.00\",\"DIFF\":\"12.1\"},{\"DIP\":67,\"VOLUME\":\"5923.00\",\"DIFF\":\"12.2\"},{\"DIP\":68,\"VOLUME\":\"6045.00\",\"DIFF\":\"12.2\"},{\"DIP\":69,\"VOLUME\":\"6167.00\",\"DIFF\":\"12.3\"},{\"DIP\":70,\"VOLUME\":\"6290.00\",\"DIFF\":\"12.3\"},{\"DIP\":71,\"VOLUME\":\"6414.00\",\"DIFF\":\"12.3\"},{\"DIP\":72,\"VOLUME\":\"6538.00\",\"DIFF\":\"12.4\"},{\"DIP\":73,\"VOLUME\":\"6662.00\",\"DIFF\":\"12.4\"},{\"DIP\":74,\"VOLUME\":\"6787.00\",\"DIFF\":\"12.5\"},{\"DIP\":75,\"VOLUME\":\"6912.00\",\"DIFF\":\"12.5\"},{\"DIP\":76,\"VOLUME\":\"7037.00\",\"DIFF\":\"12.5\"},{\"DIP\":77,\"VOLUME\":\"7163.00\",\"DIFF\":\"12.6\"},{\"DIP\":78,\"VOLUME\":\"7289.00\",\"DIFF\":\"12.6\"},{\"DIP\":79,\"VOLUME\":\"7416.00\",\"DIFF\":\"12.6\"},{\"DIP\":80,\"VOLUME\":\"7543.00\",\"DIFF\":\"12.7\"},{\"DIP\":81,\"VOLUME\":\"7670.00\",\"DIFF\":\"12.7\"},{\"DIP\":81,\"VOLUME\":\"7670.00\",\"DIFF\":\"12.8\"},{\"DIP\":82,\"VOLUME\":\"7797.00\",\"DIFF\":\"12.7\"},{\"DIP\":83,\"VOLUME\":\"7925.00\",\"DIFF\":\"12.8\"},{\"DIP\":84,\"VOLUME\":\"8053.00\",\"DIFF\":\"12.8\"},{\"DIP\":85,\"VOLUME\":\"8181.00\",\"DIFF\":\"12.8\"},{\"DIP\":86,\"VOLUME\":\"8309.00\",\"DIFF\":\"12.8\"},{\"DIP\":87,\"VOLUME\":\"8438.00\",\"DIFF\":\"12.9\"},{\"DIP\":88,\"VOLUME\":\"8567.00\",\"DIFF\":\"12.9\"},{\"DIP\":89,\"VOLUME\":\"8696.00\",\"DIFF\":\"12.9\"},{\"DIP\":90,\"VOLUME\":\"8825.00\",\"DIFF\":\"12.9\"},{\"DIP\":91,\"VOLUME\":\"8955.00\",\"DIFF\":\"13.0\"},{\"DIP\":92,\"VOLUME\":\"9084.00\",\"DIFF\":\"13.0\"},{\"DIP\":93,\"VOLUME\":\"9214.00\",\"DIFF\":\"13.0\"},{\"DIP\":94,\"VOLUME\":\"9344.00\",\"DIFF\":\"13.0\"},{\"DIP\":95,\"VOLUME\":\"9474.00\",\"DIFF\":\"13.0\"},{\"DIP\":96,\"VOLUME\":\"9604.00\",\"DIFF\":\"13.0\"},{\"DIP\":97,\"VOLUME\":\"9735.00\",\"DIFF\":\"13.0\"},{\"DIP\":98,\"VOLUME\":\"9865.00\",\"DIFF\":\"13.0\"},{\"DIP\":99,\"VOLUME\":\"9995.00\",\"DIFF\":\"13.1\"},{\"DIP\":100,\"VOLUME\":\"10126.00\",\"DIFF\":\"13.1\"},{\"DIP\":101,\"VOLUME\":\"10257.00\",\"DIFF\":\"13.1\"},{\"DIP\":102,\"VOLUME\":\"10387.00\",\"DIFF\":\"13.1\"},{\"DIP\":103,\"VOLUME\":\"10518.00\",\"DIFF\":\"13.1\"},{\"DIP\":104,\"VOLUME\":\"10649.00\",\"DIFF\":\"13.1\"},{\"DIP\":105,\"VOLUME\":\"10779.00\",\"DIFF\":\"13.1\"},{\"DIP\":106,\"VOLUME\":\"10910.00\",\"DIFF\":\"13.1\"},{\"DIP\":107,\"VOLUME\":\"11041.00\",\"DIFF\":\"13.1\"},{\"DIP\":108,\"VOLUME\":\"11171.00\",\"DIFF\":\"13.1\"},{\"DIP\":109,\"VOLUME\":\"11302.00\",\"DIFF\":\"13.1\"},{\"DIP\":110,\"VOLUME\":\"11433.00\",\"DIFF\":\"13.1\"},{\"DIP\":111,\"VOLUME\":\"11563.00\",\"DIFF\":\"13.1\"},{\"DIP\":112,\"VOLUME\":\"11693.00\",\"DIFF\":\"13.0\"},{\"DIP\":113,\"VOLUME\":\"11824.00\",\"DIFF\":\"13.0\"},{\"DIP\":114,\"VOLUME\":\"11954.00\",\"DIFF\":\"13.0\"},{\"DIP\":115,\"VOLUME\":\"12084.00\",\"DIFF\":\"13.0\"},{\"DIP\":116,\"VOLUME\":\"12214.00\",\"DIFF\":\"13.0\"},{\"DIP\":117,\"VOLUME\":\"12344.00\",\"DIFF\":\"13.0\"},{\"DIP\":118,\"VOLUME\":\"12474.00\",\"DIFF\":\"13.0\"},{\"DIP\":119,\"VOLUME\":\"12604.00\",\"DIFF\":\"13.0\"},{\"DIP\":120,\"VOLUME\":\"12733.00\",\"DIFF\":\"12.9\"},{\"DIP\":121,\"VOLUME\":\"12862.00\",\"DIFF\":\"12.9\"},{\"DIP\":121,\"VOLUME\":\"112862.00\",\"DIFF\":\"12.9\"},{\"DIP\":122,\"VOLUME\":\"12991.00\",\"DIFF\":\"12.9\"},{\"DIP\":123,\"VOLUME\":\"13120.00\",\"DIFF\":\"12.9\"},{\"DIP\":124,\"VOLUME\":\"13249.00\",\"DIFF\":\"12.9\"},{\"DIP\":125,\"VOLUME\":\"13377.00\",\"DIFF\":\"12.9\"},{\"DIP\":126,\"VOLUME\":\"13505.00\",\"DIFF\":\"12.8\"},{\"DIP\":127,\"VOLUME\":\"13633.00\",\"DIFF\":\"12.8\"},{\"DIP\":128,\"VOLUME\":\"13761.00\",\"DIFF\":\"12.8\"},{\"DIP\":129,\"VOLUME\":\"13888.00\",\"DIFF\":\"12.7\"},{\"DIP\":130,\"VOLUME\":\"14015.00\",\"DIFF\":\"12.7\"},{\"DIP\":131,\"VOLUME\":\"14142.00\",\"DIFF\":\"12.7\"},{\"DIP\":132,\"VOLUME\":\"14268.00\",\"DIFF\":\"12.6\"},{\"DIP\":133,\"VOLUME\":\"14394.00\",\"DIFF\":\"12.6\"},{\"DIP\":134,\"VOLUME\":\"14520.00\",\"DIFF\":\"12.6\"},{\"DIP\":135,\"VOLUME\":\"14646.00\",\"DIFF\":\"12.0\"},{\"DIP\":136,\"VOLUME\":\"14771.00\",\"DIFF\":\"12.5\"},{\"DIP\":137,\"VOLUME\":\"14895.00\",\"DIFF\":\"12.5\"},{\"DIP\":138,\"VOLUME\":\"15019.00\",\"DIFF\":\"12.4\"},{\"DIP\":139,\"VOLUME\":\"15143.00\",\"DIFF\":\"12.4\"},{\"DIP\":140,\"VOLUME\":\"15267.00\",\"DIFF\":\"12.4\"},{\"DIP\":141,\"VOLUME\":\"15390.00\",\"DIFF\":\"12.3\"},{\"DIP\":142,\"VOLUME\":\"15512.00\",\"DIFF\":\"12.2\"},{\"DIP\":143,\"VOLUME\":\"15632.00\",\"DIFF\":\"12.2\"},{\"DIP\":144,\"VOLUME\":\"15756.00\",\"DIFF\":\"12.2\"},{\"DIP\":145,\"VOLUME\":\"15877.00\",\"DIFF\":\"12.1\"},{\"DIP\":146,\"VOLUME\":\"15997.00\",\"DIFF\":\"12.1\"},{\"DIP\":147,\"VOLUME\":\"16117.00\",\"DIFF\":\"12.0\"},{\"DIP\":148,\"VOLUME\":\"16236.00\",\"DIFF\":\"12.0\"},{\"DIP\":149,\"VOLUME\":\"16355.00\",\"DIFF\":\"11.9\"},{\"DIP\":150,\"VOLUME\":\"16474.00\",\"DIFF\":\"11.9\"},{\"DIP\":151,\"VOLUME\":\"16591.00\",\"DIFF\":\"11.8\"},{\"DIP\":152,\"VOLUME\":\"16708.00\",\"DIFF\":\"11.7\"},{\"DIP\":153,\"VOLUME\":\"16825.00\",\"DIFF\":\"11.6\"},{\"DIP\":154,\"VOLUME\":\"1694.00\",\"DIFF\":\"11.6\"},{\"DIP\":155,\"VOLUME\":\"17056.00\",\"DIFF\":\"11.6\"},{\"DIP\":156,\"VOLUME\":\"17170.00\",\"DIFF\":\"11.5\"},{\"DIP\":157,\"VOLUME\":\"17284.00\",\"DIFF\":\"11.4\"},{\"DIP\":158,\"VOLUME\":\"17397.00\",\"DIFF\":\"11.4\"},{\"DIP\":159,\"VOLUME\":\"17510.00\",\"DIFF\":\"11.3\"},{\"DIP\":160,\"VOLUME\":\"17621.00\",\"DIFF\":\"11.2\"},{\"DIP\":161,\"VOLUME\":\"17732.00\",\"DIFF\":\"11.1\"},{\"DIP\":161,\"VOLUME\":\"17732.00\",\"DIFF\":\"11.1\"},{\"DIP\":162,\"VOLUME\":\"17842.00\",\"DIFF\":\"11.1\"},{\"DIP\":163,\"VOLUME\":\"17951.00\",\"DIFF\":\"10.9\"},{\"DIP\":164,\"VOLUME\":\"18060.00\",\"DIFF\":\"10.9\"},{\"DIP\":165,\"VOLUME\":\"18167.00\",\"DIFF\":\"10.8\"},{\"DIP\":166,\"VOLUME\":\"18274.00\",\"DIFF\":\"10.7\"},{\"DIP\":167,\"VOLUME\":\"18380.00\",\"DIFF\":\"10.6\"},{\"DIP\":168,\"VOLUME\":\"18484.00\",\"DIFF\":\"10.5\"},{\"DIP\":169,\"VOLUME\":\"18588.00\",\"DIFF\":\"10.4\"},{\"DIP\":170,\"VOLUME\":\"18691.00\",\"DIFF\":\"10.3\"},{\"DIP\":171,\"VOLUME\":\"18793.00\",\"DIFF\":\"10.2\"},{\"DIP\":172,\"VOLUME\":\"18894.00\",\"DIFF\":\"10.1\"},{\"DIP\":173,\"VOLUME\":\"18994.00\",\"DIFF\":\"10.0\"},{\"DIP\":174,\"VOLUME\":\"19093.00\",\"DIFF\":\"9.9\"},{\"DIP\":175,\"VOLUME\":\"19191.00\",\"DIFF\":\"9.8\"},{\"DIP\":176,\"VOLUME\":\"19287.00\",\"DIFF\":\"9.7\"},{\"DIP\":177,\"VOLUME\":\"19383.00\",\"DIFF\":\"9.6\"},{\"DIP\":178,\"VOLUME\":\"19477.00\",\"DIFF\":\"9.4\"},{\"DIP\":179,\"VOLUME\":\"19570.00\",\"DIFF\":\"9.3\"},{\"DIP\":180,\"VOLUME\":\"19662.00\",\"DIFF\":\"9.2\"},{\"DIP\":181,\"VOLUME\":\"19753.00\",\"DIFF\":\"9.1\"},{\"DIP\":182,\"VOLUME\":\"19842.00\",\"DIFF\":\"8.9\"},{\"DIP\":183,\"VOLUME\":\"19930.00\",\"DIFF\":\"8.8\"},{\"DIP\":184,\"VOLUME\":\"20016.00\",\"DIFF\":\"8.7\"},{\"DIP\":185,\"VOLUME\":\"20102.00\",\"DIFF\":\"8.5\"},{\"DIP\":186,\"VOLUME\":\"20185.00\",\"DIFF\":\"8.4\"},{\"DIP\":187,\"VOLUME\":\"20267.00\",\"DIFF\":\"8.2\"},{\"DIP\":188,\"VOLUME\":\"20348.00\",\"DIFF\":\"8.1\"},{\"DIP\":189,\"VOLUME\":\"20427.00\",\"DIFF\":\"7.9\"},{\"DIP\":190,\"VOLUME\":\"20504.00\",\"DIFF\":\"7.7\"},{\"DIP\":191,\"VOLUME\":\"20579.00\",\"DIFF\":\"7.6\"},{\"DIP\":192,\"VOLUME\":\"20653.00\",\"DIFF\":\"7.4\"},{\"DIP\":193,\"VOLUME\":\"20725.00\",\"DIFF\":\"7.2\"},{\"DIP\":194,\"VOLUME\":\"20795.00\",\"DIFF\":\"7.0\"},{\"DIP\":195,\"VOLUME\":\"20863.00\",\"DIFF\":\"6.8\"},{\"DIP\":196,\"VOLUME\":\"20929.00\",\"DIFF\":\"6.6\"},{\"DIP\":197,\"VOLUME\":\"20992.00\",\"DIFF\":\"6.4\"},{\"DIP\":198,\"VOLUME\":\"21054.00\",\"DIFF\":\"6.2\"},{\"DIP\":199,\"VOLUME\":\"21113.00\",\"DIFF\":\"6.0\"},{\"DIP\":200,\"VOLUME\":\"21169.00\",\"DIFF\":\"5.7\"},{\"DIP\":201,\"VOLUME\":\"21223.00\",\"DIFF\":\"5.4\"},{\"DIP\":201,\"VOLUME\":\"21325.11\",\"DIFF\":\"5.4\"},{\"DIP\":202,\"VOLUME\":\"21274.00\",\"DIFF\":\"5.1\"},{\"DIP\":203,\"VOLUME\":\"21322.00\",\"DIFF\":\"4.8\"},{\"DIP\":204,\"VOLUME\":\"21366.00\",\"DIFF\":\"4.5\"},{\"DIP\":205,\"VOLUME\":\"21407.00\",\"DIFF\":\"4.1\"},{\"DIP\":206,\"VOLUME\":\"21444.00\",\"DIFF\":\"3.7\"},{\"DIP\":207,\"VOLUME\":\"21476.00\",\"DIFF\":\"3.2\"},{\"DIP\":208,\"VOLUME\":\"21504.00\",\"DIFF\":\"2.7\"},{\"DIP\":209,\"VOLUME\":\"21524.00\",\"DIFF\":\"2.0\"},{\"DIP\":210,\"VOLUME\":\"21646.93\",\"DIFF\":\"1.2\"},{\"DIP\":211,\"VOLUME\":\"#NUM!\",\"DIFF\":\"###\"}]\n"
     ]
    }
   ],
   "source": [
    "import pandas as pd\n",
    "\n",
    "# Read the CSV file\n",
    "df = pd.read_csv(\"./c_chart.csv\")\n",
    "\n",
    "# Convert the DataFrame to JSON format\n",
    "json_data = df.to_json(orient=\"records\")\n",
    "\n",
    "# Print or save the JSON data\n",
    "print(json_data)\n",
    "\n",
    "# If you want to save the JSON data to a file\n",
    "with open(\"charts.json\", \"w\") as outfile:\n",
    "    outfile.write(json_data)\n"
   ]
  },
  {
   "cell_type": "code",
   "execution_count": 17,
   "id": "6ed3e2a6-2045-46f1-807b-d181c5819eae",
   "metadata": {},
   "outputs": [],
   "source": [
    "import json\n"
   ]
  },
  {
   "cell_type": "code",
   "execution_count": 24,
   "id": "c4ce62d0-5c93-4657-a1d4-ea0fff7421c3",
   "metadata": {},
   "outputs": [
    {
     "name": "stdout",
     "output_type": "stream",
     "text": [
      "DIP 60\n",
      "DD 8\n",
      "8.500000000000014\n",
      "11.8\n",
      "CD 100.30000000000017\n",
      "Volume 5082.0\n",
      "Final Stock Volume: 5182.30\n"
     ]
    }
   ],
   "source": [
    "\n",
    "def extract_integer_part(number):\n",
    "    return int(str(number).split('.')[0][-1])\n",
    "\n",
    "\n",
    "def calculate_stock_volume(dip, data):\n",
    "    try:\n",
    "        dip_int = int(dip)\n",
    "        dip_decimal = (dip - dip_int) * 10\n",
    "        ndip_decimal = extract_integer_part(dip_decimal)\n",
    "        print(\"DIP\",dip_int)\n",
    "        print(\"DD\",ndip_decimal)\n",
    "\n",
    "        print(dip_decimal)\n",
    "        for entry in data:\n",
    "            if entry['DIP'] == dip_int:\n",
    "                volume = float(entry['VOLUME'])\n",
    "                diff = float(entry['DIFF'])\n",
    "                print(diff)\n",
    "                calculate_difference = diff * ndip_decimal\n",
    "                print(\"CD\",calculate_difference)\n",
    "                print(\"Volume\",volume)\n",
    "                final_stock_volume = volume + calculate_difference\n",
    "                return final_stock_volume\n",
    "\n",
    "        raise ValueError(\"DIP value not found in the JSON data.\")\n",
    "\n",
    "    except Exception as e:\n",
    "        raise ValueError(f'Error processing data: {e}')\n",
    "\n",
    "# Function to read JSON data from file\n",
    "def read_json_file(file_path):\n",
    "    with open(file_path, \"r\") as file:\n",
    "        data = json.load(file)\n",
    "    return data\n",
    "\n",
    "# Example usage\n",
    "def main():\n",
    "    file_path = \"./charts.json\"\n",
    "    dip_input = 60.85\n",
    "    \n",
    "    try:\n",
    "        chart_data = read_json_file(file_path)\n",
    "        final_volume = calculate_stock_volume(dip_input, chart_data)\n",
    "        print(f\"Final Stock Volume: {final_volume:.2f}\")\n",
    "    except ValueError as ve:\n",
    "        print(ve)\n",
    "\n",
    "if __name__ == \"__main__\":\n",
    "    main()\n"
   ]
  },
  {
   "cell_type": "code",
   "execution_count": null,
   "id": "7fafab4d-db86-4bfc-b927-9b01ce7678c2",
   "metadata": {},
   "outputs": [],
   "source": []
  }
 ],
 "metadata": {
  "kernelspec": {
   "display_name": "Python 3 (ipykernel)",
   "language": "python",
   "name": "python3"
  },
  "language_info": {
   "codemirror_mode": {
    "name": "ipython",
    "version": 3
   },
   "file_extension": ".py",
   "mimetype": "text/x-python",
   "name": "python",
   "nbconvert_exporter": "python",
   "pygments_lexer": "ipython3",
   "version": "3.10.12"
  }
 },
 "nbformat": 4,
 "nbformat_minor": 5
}
