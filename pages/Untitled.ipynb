{
 "cells": [
  {
   "cell_type": "code",
   "execution_count": 3,
   "id": "2d69b26e-3729-461a-b1d9-d61033a7c692",
   "metadata": {},
   "outputs": [
    {
     "name": "stdout",
     "output_type": "stream",
     "text": [
      "Data has been written to ../data/hs_data.csv\n"
     ]
    }
   ],
   "source": [
    "import csv\n",
    "\n",
    "# Define the data to be populated\n",
    "data = [\n",
    "    {\"Date\": \"2024-03-01\", \"DIP\": 104.10, \"HS Nozzle 1\": 2345324.50, \"HS Nozzle 2\": 1570135.20,\n",
    "     \"HS Nozzle 3\": 469058.60, \"HS_Total Nozzle sales\": 0.00, \"HS Stock Volume\": 10662.10,\n",
    "     \"HS Physical Volume\": 10662.10, \"HS Opening Stock\": 13926.1, \"HS Receipt\": 0.00,\n",
    "     \"HS Actual Nozzle Sales\": -10.00, \"HS Closing Stock\": -10672.10, \"HS Loss / Gain\": 21334.20}\n",
    "]\n",
    "\n",
    "# Define the CSV file path\n",
    "csv_file_path = \"../data/hs_data.csv\"\n",
    "\n",
    "# Define the column names\n",
    "columns = [\"Date\", \"DIP\", \"HS Nozzle 1\", \"HS Nozzle 2\", \"HS Nozzle 3\",\n",
    "           \"HS_Total Nozzle sales\", \"HS Stock Volume\", \"HS Physical Volume\",\n",
    "           \"HS Opening Stock\", \"HS Receipt\", \"HS Actual Nozzle Sales\",\n",
    "           \"HS Closing Stock\", \"HS Loss / Gain\"]\n",
    "\n",
    "# Writing data to the CSV file\n",
    "with open(csv_file_path, mode='w', newline='') as file:\n",
    "    writer = csv.DictWriter(file, fieldnames=columns)\n",
    "    \n",
    "    # Write the header\n",
    "    writer.writeheader()\n",
    "    \n",
    "    # Write the data row\n",
    "    for row in data:\n",
    "        writer.writerow(row)\n",
    "\n",
    "print(\"Data has been written to\", csv_file_path)\n"
   ]
  },
  {
   "cell_type": "code",
   "execution_count": null,
   "id": "53cd4ae0-5cd0-450c-a2bc-27ea154a729f",
   "metadata": {},
   "outputs": [],
   "source": []
  }
 ],
 "metadata": {
  "kernelspec": {
   "display_name": "Python 3 (ipykernel)",
   "language": "python",
   "name": "python3"
  },
  "language_info": {
   "codemirror_mode": {
    "name": "ipython",
    "version": 3
   },
   "file_extension": ".py",
   "mimetype": "text/x-python",
   "name": "python",
   "nbconvert_exporter": "python",
   "pygments_lexer": "ipython3",
   "version": "3.10.12"
  }
 },
 "nbformat": 4,
 "nbformat_minor": 5
}
